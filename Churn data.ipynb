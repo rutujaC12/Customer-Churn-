{
  "cells": [
    {
      "cell_type": "code",
      "execution_count": null,
      "metadata": {
        "id": "_ZkXtnpRdt3n"
      },
      "outputs": [],
      "source": [
        "import pandas as pd\n",
        "from sklearn.model_selection import train_test_split\n",
        "from sklearn.preprocessing import StandardScaler\n",
        "from sklearn.metrics import confusion_matrix, classification_report\n",
        "from tensorflow.keras.models import Sequential\n",
        "from tensorflow.keras.layers import Dense"
      ]
    },
    {
      "cell_type": "markdown",
      "metadata": {
        "id": "hs4Vca31sXKw"
      },
      "source": [
        "Step 1: Load the dataset"
      ]
    },
    {
      "cell_type": "code",
      "execution_count": null,
      "metadata": {
        "id": "-I-WVu_TIuJs"
      },
      "outputs": [],
      "source": [
        "df = pd.read_csv('Telco-Customer-Churn.csv')"
      ]
    },
    {
      "cell_type": "code",
      "execution_count": null,
      "metadata": {
        "colab": {
          "base_uri": "https://localhost:8080/"
        },
        "id": "dQ4B14RRIt9q",
        "outputId": "497ed035-fbb4-484d-97bd-f53e18276c2b"
      },
      "outputs": [
        {
          "name": "stdout",
          "output_type": "stream",
          "text": [
            "<class 'pandas.core.frame.DataFrame'>\n",
            "RangeIndex: 7043 entries, 0 to 7042\n",
            "Data columns (total 21 columns):\n",
            " #   Column            Non-Null Count  Dtype  \n",
            "---  ------            --------------  -----  \n",
            " 0   customerID        7043 non-null   object \n",
            " 1   gender            7043 non-null   object \n",
            " 2   SeniorCitizen     7043 non-null   int64  \n",
            " 3   Partner           7043 non-null   object \n",
            " 4   Dependents        7043 non-null   object \n",
            " 5   tenure            7043 non-null   int64  \n",
            " 6   PhoneService      7043 non-null   object \n",
            " 7   MultipleLines     7043 non-null   object \n",
            " 8   InternetService   7043 non-null   object \n",
            " 9   OnlineSecurity    7043 non-null   object \n",
            " 10  OnlineBackup      7043 non-null   object \n",
            " 11  DeviceProtection  7043 non-null   object \n",
            " 12  TechSupport       7043 non-null   object \n",
            " 13  StreamingTV       7043 non-null   object \n",
            " 14  StreamingMovies   7043 non-null   object \n",
            " 15  Contract          7043 non-null   object \n",
            " 16  PaperlessBilling  7043 non-null   object \n",
            " 17  PaymentMethod     7043 non-null   object \n",
            " 18  MonthlyCharges    7043 non-null   float64\n",
            " 19  TotalCharges      7043 non-null   object \n",
            " 20  Churn             7043 non-null   object \n",
            "dtypes: float64(1), int64(2), object(18)\n",
            "memory usage: 1.1+ MB\n",
            "None\n"
          ]
        }
      ],
      "source": [
        "print(df.info())"
      ]
    },
    {
      "cell_type": "code",
      "execution_count": null,
      "metadata": {
        "colab": {
          "base_uri": "https://localhost:8080/"
        },
        "id": "N6ninx55I3sE",
        "outputId": "292e8199-d220-4014-ce85-1205e2926020"
      },
      "outputs": [
        {
          "name": "stdout",
          "output_type": "stream",
          "text": [
            "       SeniorCitizen       tenure  MonthlyCharges\n",
            "count    7043.000000  7043.000000     7043.000000\n",
            "mean        0.162147    32.371149       64.761692\n",
            "std         0.368612    24.559481       30.090047\n",
            "min         0.000000     0.000000       18.250000\n",
            "25%         0.000000     9.000000       35.500000\n",
            "50%         0.000000    29.000000       70.350000\n",
            "75%         0.000000    55.000000       89.850000\n",
            "max         1.000000    72.000000      118.750000\n"
          ]
        }
      ],
      "source": [
        "print(df.describe())"
      ]
    },
    {
      "cell_type": "code",
      "execution_count": null,
      "metadata": {
        "colab": {
          "base_uri": "https://localhost:8080/"
        },
        "id": "Zcwg7BlRI3ol",
        "outputId": "6c5383ac-b1e1-4df7-9d57-dcf2569858ba"
      },
      "outputs": [
        {
          "name": "stdout",
          "output_type": "stream",
          "text": [
            "Churn\n",
            "No     5174\n",
            "Yes    1869\n",
            "Name: count, dtype: int64\n"
          ]
        }
      ],
      "source": [
        "print(df['Churn'].value_counts())"
      ]
    },
    {
      "cell_type": "markdown",
      "metadata": {
        "id": "NGHOU-FesT1e"
      },
      "source": [
        "Step 2: Data Preprocessing"
      ]
    },
    {
      "cell_type": "code",
      "execution_count": null,
      "metadata": {
        "id": "qU4M0rMGIeL2"
      },
      "outputs": [],
      "source": [
        "\n",
        "# Convert 'TotalCharges' to numeric, coercing errors into NaN\n",
        "df['TotalCharges'] = pd.to_numeric(df['TotalCharges'], errors='coerce')\n",
        "\n",
        "# Fill NaN values with column means only for numeric columns\n",
        "numeric_columns = df.select_dtypes(include=['float64', 'int64']).columns\n",
        "df[numeric_columns] = df[numeric_columns].fillna(df[numeric_columns].mean())\n",
        "\n",
        "# Convert categorical variables to dummy variables (one-hot encoding)\n",
        "df = pd.get_dummies(df, drop_first=True)\n",
        "\n",
        "# Scale numerical features\n",
        "scaler = StandardScaler()\n",
        "df[['tenure', 'MonthlyCharges', 'TotalCharges']] = scaler.fit_transform(df[['tenure', 'MonthlyCharges', 'TotalCharges']])"
      ]
    },
    {
      "cell_type": "code",
      "execution_count": null,
      "metadata": {
        "id": "ImuW0Mc4IeGF"
      },
      "outputs": [],
      "source": [
        "# Define the features (X) and the target (y)\n",
        "X = df.drop('Churn_Yes', axis=1)\n",
        "y = df['Churn_Yes']\n",
        "\n",
        "# Split the dataset into training and testing sets\n",
        "X_train, X_test, y_train, y_test = train_test_split(X, y, test_size=0.3, random_state=42)"
      ]
    },
    {
      "cell_type": "markdown",
      "metadata": {
        "id": "P2AV7qOTsOGA"
      },
      "source": [
        "Step 3: Build the ANN Model\n"
      ]
    },
    {
      "cell_type": "code",
      "execution_count": null,
      "metadata": {
        "colab": {
          "base_uri": "https://localhost:8080/"
        },
        "id": "HNJWK3agIeDa",
        "outputId": "7a393b9b-defc-417f-bc2e-83ea48179fac"
      },
      "outputs": [
        {
          "name": "stderr",
          "output_type": "stream",
          "text": [
            "/usr/local/lib/python3.10/dist-packages/keras/src/layers/core/dense.py:87: UserWarning: Do not pass an `input_shape`/`input_dim` argument to a layer. When using Sequential models, prefer using an `Input(shape)` object as the first layer in the model instead.\n",
            "  super().__init__(activity_regularizer=activity_regularizer, **kwargs)\n"
          ]
        }
      ],
      "source": [
        "# Initialize the ANN model\n",
        "model = Sequential()\n",
        "\n",
        "# Add the input layer and the first hidden layer\n",
        "model.add(Dense(units=16, activation='relu', input_shape=(X_train.shape[1],)))"
      ]
    },
    {
      "cell_type": "code",
      "execution_count": null,
      "metadata": {
        "id": "zoYsKGVkIOm5"
      },
      "outputs": [],
      "source": [
        "# Add the second hidden layer\n",
        "model.add(Dense(units=8, activation='relu'))"
      ]
    },
    {
      "cell_type": "code",
      "execution_count": null,
      "metadata": {
        "id": "xA4HqYgdIOjb"
      },
      "outputs": [],
      "source": [
        "# Add the output layer\n",
        "model.add(Dense(units=1, activation='sigmoid'))"
      ]
    },
    {
      "cell_type": "code",
      "execution_count": null,
      "metadata": {
        "id": "o73CZEBQIOhE"
      },
      "outputs": [],
      "source": [
        "# Compile the model\n",
        "model.compile(optimizer='adam', loss='binary_crossentropy', metrics=['accuracy'])"
      ]
    },
    {
      "cell_type": "markdown",
      "metadata": {
        "id": "l7CCEtZ-sbQp"
      },
      "source": [
        "Step 4: Train the Model"
      ]
    },
    {
      "cell_type": "code",
      "execution_count": null,
      "metadata": {
        "colab": {
          "base_uri": "https://localhost:8080/"
        },
        "id": "Xj8LeyaXIOeu",
        "outputId": "7f466800-76d4-4db9-c068-d906adf74340"
      },
      "outputs": [
        {
          "name": "stdout",
          "output_type": "stream",
          "text": [
            "Epoch 1/50\n",
            "\u001b[1m155/155\u001b[0m \u001b[32m━━━━━━━━━━━━━━━━━━━━\u001b[0m\u001b[37m\u001b[0m \u001b[1m4s\u001b[0m 14ms/step - accuracy: 0.7079 - loss: 0.5756 - val_accuracy: 0.7956 - val_loss: 0.4280\n",
            "Epoch 2/50\n",
            "\u001b[1m155/155\u001b[0m \u001b[32m━━━━━━━━━━━━━━━━━━━━\u001b[0m\u001b[37m\u001b[0m \u001b[1m1s\u001b[0m 6ms/step - accuracy: 0.7981 - loss: 0.4272 - val_accuracy: 0.7946 - val_loss: 0.4189\n",
            "Epoch 3/50\n",
            "\u001b[1m155/155\u001b[0m \u001b[32m━━━━━━━━━━━━━━━━━━━━\u001b[0m\u001b[37m\u001b[0m \u001b[1m1s\u001b[0m 5ms/step - accuracy: 0.8191 - loss: 0.4011 - val_accuracy: 0.8045 - val_loss: 0.4099\n",
            "Epoch 4/50\n",
            "\u001b[1m155/155\u001b[0m \u001b[32m━━━━━━━━━━━━━━━━━━━━\u001b[0m\u001b[37m\u001b[0m \u001b[1m1s\u001b[0m 5ms/step - accuracy: 0.8548 - loss: 0.3525 - val_accuracy: 0.8074 - val_loss: 0.4095\n",
            "Epoch 5/50\n",
            "\u001b[1m155/155\u001b[0m \u001b[32m━━━━━━━━━━━━━━━━━━━━\u001b[0m\u001b[37m\u001b[0m \u001b[1m1s\u001b[0m 5ms/step - accuracy: 0.8831 - loss: 0.3047 - val_accuracy: 0.8036 - val_loss: 0.4112\n",
            "Epoch 6/50\n",
            "\u001b[1m155/155\u001b[0m \u001b[32m━━━━━━━━━━━━━━━━━━━━\u001b[0m\u001b[37m\u001b[0m \u001b[1m1s\u001b[0m 5ms/step - accuracy: 0.9575 - loss: 0.2053 - val_accuracy: 0.7922 - val_loss: 0.4343\n",
            "Epoch 7/50\n",
            "\u001b[1m155/155\u001b[0m \u001b[32m━━━━━━━━━━━━━━━━━━━━\u001b[0m\u001b[37m\u001b[0m \u001b[1m1s\u001b[0m 4ms/step - accuracy: 0.9879 - loss: 0.1145 - val_accuracy: 0.7951 - val_loss: 0.4349\n",
            "Epoch 8/50\n",
            "\u001b[1m155/155\u001b[0m \u001b[32m━━━━━━━━━━━━━━━━━━━━\u001b[0m\u001b[37m\u001b[0m \u001b[1m1s\u001b[0m 5ms/step - accuracy: 0.9981 - loss: 0.0517 - val_accuracy: 0.7530 - val_loss: 0.4717\n",
            "Epoch 9/50\n",
            "\u001b[1m155/155\u001b[0m \u001b[32m━━━━━━━━━━━━━━━━━━━━\u001b[0m\u001b[37m\u001b[0m \u001b[1m1s\u001b[0m 4ms/step - accuracy: 0.9990 - loss: 0.0295 - val_accuracy: 0.7520 - val_loss: 0.4814\n",
            "Epoch 10/50\n",
            "\u001b[1m155/155\u001b[0m \u001b[32m━━━━━━━━━━━━━━━━━━━━\u001b[0m\u001b[37m\u001b[0m \u001b[1m1s\u001b[0m 5ms/step - accuracy: 1.0000 - loss: 0.0154 - val_accuracy: 0.7960 - val_loss: 0.4388\n",
            "Epoch 11/50\n",
            "\u001b[1m155/155\u001b[0m \u001b[32m━━━━━━━━━━━━━━━━━━━━\u001b[0m\u001b[37m\u001b[0m \u001b[1m1s\u001b[0m 4ms/step - accuracy: 1.0000 - loss: 0.0093 - val_accuracy: 0.7989 - val_loss: 0.4390\n",
            "Epoch 12/50\n",
            "\u001b[1m155/155\u001b[0m \u001b[32m━━━━━━━━━━━━━━━━━━━━\u001b[0m\u001b[37m\u001b[0m \u001b[1m1s\u001b[0m 6ms/step - accuracy: 1.0000 - loss: 0.0065 - val_accuracy: 0.7941 - val_loss: 0.4393\n",
            "Epoch 13/50\n",
            "\u001b[1m155/155\u001b[0m \u001b[32m━━━━━━━━━━━━━━━━━━━━\u001b[0m\u001b[37m\u001b[0m \u001b[1m1s\u001b[0m 9ms/step - accuracy: 1.0000 - loss: 0.0049 - val_accuracy: 0.7979 - val_loss: 0.4389\n",
            "Epoch 14/50\n",
            "\u001b[1m155/155\u001b[0m \u001b[32m━━━━━━━━━━━━━━━━━━━━\u001b[0m\u001b[37m\u001b[0m \u001b[1m1s\u001b[0m 9ms/step - accuracy: 1.0000 - loss: 0.0035 - val_accuracy: 0.7941 - val_loss: 0.4439\n",
            "Epoch 15/50\n",
            "\u001b[1m155/155\u001b[0m \u001b[32m━━━━━━━━━━━━━━━━━━━━\u001b[0m\u001b[37m\u001b[0m \u001b[1m2s\u001b[0m 4ms/step - accuracy: 1.0000 - loss: 0.0028 - val_accuracy: 0.7946 - val_loss: 0.4430\n",
            "Epoch 16/50\n",
            "\u001b[1m155/155\u001b[0m \u001b[32m━━━━━━━━━━━━━━━━━━━━\u001b[0m\u001b[37m\u001b[0m \u001b[1m1s\u001b[0m 5ms/step - accuracy: 1.0000 - loss: 0.0021 - val_accuracy: 0.7908 - val_loss: 0.4463\n",
            "Epoch 17/50\n",
            "\u001b[1m155/155\u001b[0m \u001b[32m━━━━━━━━━━━━━━━━━━━━\u001b[0m\u001b[37m\u001b[0m \u001b[1m1s\u001b[0m 5ms/step - accuracy: 1.0000 - loss: 0.0018 - val_accuracy: 0.7870 - val_loss: 0.4500\n",
            "Epoch 18/50\n",
            "\u001b[1m155/155\u001b[0m \u001b[32m━━━━━━━━━━━━━━━━━━━━\u001b[0m\u001b[37m\u001b[0m \u001b[1m1s\u001b[0m 4ms/step - accuracy: 1.0000 - loss: 0.0015 - val_accuracy: 0.7894 - val_loss: 0.4469\n",
            "Epoch 19/50\n",
            "\u001b[1m155/155\u001b[0m \u001b[32m━━━━━━━━━━━━━━━━━━━━\u001b[0m\u001b[37m\u001b[0m \u001b[1m1s\u001b[0m 5ms/step - accuracy: 1.0000 - loss: 0.0012 - val_accuracy: 0.7932 - val_loss: 0.4436\n",
            "Epoch 20/50\n",
            "\u001b[1m155/155\u001b[0m \u001b[32m━━━━━━━━━━━━━━━━━━━━\u001b[0m\u001b[37m\u001b[0m \u001b[1m1s\u001b[0m 4ms/step - accuracy: 1.0000 - loss: 0.0010 - val_accuracy: 0.7908 - val_loss: 0.4447\n",
            "Epoch 21/50\n",
            "\u001b[1m155/155\u001b[0m \u001b[32m━━━━━━━━━━━━━━━━━━━━\u001b[0m\u001b[37m\u001b[0m \u001b[1m1s\u001b[0m 5ms/step - accuracy: 1.0000 - loss: 8.8247e-04 - val_accuracy: 0.7913 - val_loss: 0.4431\n",
            "Epoch 22/50\n",
            "\u001b[1m155/155\u001b[0m \u001b[32m━━━━━━━━━━━━━━━━━━━━\u001b[0m\u001b[37m\u001b[0m \u001b[1m1s\u001b[0m 4ms/step - accuracy: 1.0000 - loss: 7.7528e-04 - val_accuracy: 0.7875 - val_loss: 0.4502\n",
            "Epoch 23/50\n",
            "\u001b[1m155/155\u001b[0m \u001b[32m━━━━━━━━━━━━━━━━━━━━\u001b[0m\u001b[37m\u001b[0m \u001b[1m1s\u001b[0m 5ms/step - accuracy: 1.0000 - loss: 6.3617e-04 - val_accuracy: 0.7922 - val_loss: 0.4423\n",
            "Epoch 24/50\n",
            "\u001b[1m155/155\u001b[0m \u001b[32m━━━━━━━━━━━━━━━━━━━━\u001b[0m\u001b[37m\u001b[0m \u001b[1m2s\u001b[0m 9ms/step - accuracy: 1.0000 - loss: 5.5567e-04 - val_accuracy: 0.7809 - val_loss: 0.4563\n",
            "Epoch 25/50\n",
            "\u001b[1m155/155\u001b[0m \u001b[32m━━━━━━━━━━━━━━━━━━━━\u001b[0m\u001b[37m\u001b[0m \u001b[1m1s\u001b[0m 9ms/step - accuracy: 1.0000 - loss: 5.3732e-04 - val_accuracy: 0.7866 - val_loss: 0.4501\n",
            "Epoch 26/50\n",
            "\u001b[1m155/155\u001b[0m \u001b[32m━━━━━━━━━━━━━━━━━━━━\u001b[0m\u001b[37m\u001b[0m \u001b[1m2s\u001b[0m 5ms/step - accuracy: 1.0000 - loss: 4.3496e-04 - val_accuracy: 0.7847 - val_loss: 0.4504\n",
            "Epoch 27/50\n",
            "\u001b[1m155/155\u001b[0m \u001b[32m━━━━━━━━━━━━━━━━━━━━\u001b[0m\u001b[37m\u001b[0m \u001b[1m1s\u001b[0m 5ms/step - accuracy: 1.0000 - loss: 3.4724e-04 - val_accuracy: 0.7894 - val_loss: 0.4509\n",
            "Epoch 28/50\n",
            "\u001b[1m155/155\u001b[0m \u001b[32m━━━━━━━━━━━━━━━━━━━━\u001b[0m\u001b[37m\u001b[0m \u001b[1m1s\u001b[0m 5ms/step - accuracy: 1.0000 - loss: 3.3132e-04 - val_accuracy: 0.7866 - val_loss: 0.4511\n",
            "Epoch 29/50\n",
            "\u001b[1m155/155\u001b[0m \u001b[32m━━━━━━━━━━━━━━━━━━━━\u001b[0m\u001b[37m\u001b[0m \u001b[1m1s\u001b[0m 5ms/step - accuracy: 1.0000 - loss: 2.8246e-04 - val_accuracy: 0.7752 - val_loss: 0.4567\n",
            "Epoch 30/50\n",
            "\u001b[1m155/155\u001b[0m \u001b[32m━━━━━━━━━━━━━━━━━━━━\u001b[0m\u001b[37m\u001b[0m \u001b[1m1s\u001b[0m 4ms/step - accuracy: 1.0000 - loss: 2.7838e-04 - val_accuracy: 0.7818 - val_loss: 0.4547\n",
            "Epoch 31/50\n",
            "\u001b[1m155/155\u001b[0m \u001b[32m━━━━━━━━━━━━━━━━━━━━\u001b[0m\u001b[37m\u001b[0m \u001b[1m1s\u001b[0m 5ms/step - accuracy: 1.0000 - loss: 2.4928e-04 - val_accuracy: 0.7761 - val_loss: 0.4567\n",
            "Epoch 32/50\n",
            "\u001b[1m155/155\u001b[0m \u001b[32m━━━━━━━━━━━━━━━━━━━━\u001b[0m\u001b[37m\u001b[0m \u001b[1m1s\u001b[0m 5ms/step - accuracy: 1.0000 - loss: 2.0013e-04 - val_accuracy: 0.7676 - val_loss: 0.4630\n",
            "Epoch 33/50\n",
            "\u001b[1m155/155\u001b[0m \u001b[32m━━━━━━━━━━━━━━━━━━━━\u001b[0m\u001b[37m\u001b[0m \u001b[1m1s\u001b[0m 5ms/step - accuracy: 1.0000 - loss: 1.9418e-04 - val_accuracy: 0.7780 - val_loss: 0.4549\n",
            "Epoch 34/50\n",
            "\u001b[1m155/155\u001b[0m \u001b[32m━━━━━━━━━━━━━━━━━━━━\u001b[0m\u001b[37m\u001b[0m \u001b[1m1s\u001b[0m 5ms/step - accuracy: 1.0000 - loss: 1.6470e-04 - val_accuracy: 0.7780 - val_loss: 0.4563\n",
            "Epoch 35/50\n",
            "\u001b[1m155/155\u001b[0m \u001b[32m━━━━━━━━━━━━━━━━━━━━\u001b[0m\u001b[37m\u001b[0m \u001b[1m2s\u001b[0m 9ms/step - accuracy: 1.0000 - loss: 1.4332e-04 - val_accuracy: 0.7842 - val_loss: 0.4507\n",
            "Epoch 36/50\n",
            "\u001b[1m155/155\u001b[0m \u001b[32m━━━━━━━━━━━━━━━━━━━━\u001b[0m\u001b[37m\u001b[0m \u001b[1m2s\u001b[0m 5ms/step - accuracy: 1.0000 - loss: 1.3245e-04 - val_accuracy: 0.7766 - val_loss: 0.4570\n",
            "Epoch 37/50\n",
            "\u001b[1m155/155\u001b[0m \u001b[32m━━━━━━━━━━━━━━━━━━━━\u001b[0m\u001b[37m\u001b[0m \u001b[1m1s\u001b[0m 5ms/step - accuracy: 1.0000 - loss: 1.1592e-04 - val_accuracy: 0.7714 - val_loss: 0.4598\n",
            "Epoch 38/50\n",
            "\u001b[1m155/155\u001b[0m \u001b[32m━━━━━━━━━━━━━━━━━━━━\u001b[0m\u001b[37m\u001b[0m \u001b[1m1s\u001b[0m 5ms/step - accuracy: 1.0000 - loss: 1.0905e-04 - val_accuracy: 0.7747 - val_loss: 0.4573\n",
            "Epoch 39/50\n",
            "\u001b[1m155/155\u001b[0m \u001b[32m━━━━━━━━━━━━━━━━━━━━\u001b[0m\u001b[37m\u001b[0m \u001b[1m1s\u001b[0m 7ms/step - accuracy: 1.0000 - loss: 9.8041e-05 - val_accuracy: 0.7709 - val_loss: 0.4638\n",
            "Epoch 40/50\n",
            "\u001b[1m155/155\u001b[0m \u001b[32m━━━━━━━━━━━━━━━━━━━━\u001b[0m\u001b[37m\u001b[0m \u001b[1m1s\u001b[0m 7ms/step - accuracy: 1.0000 - loss: 8.2646e-05 - val_accuracy: 0.7771 - val_loss: 0.4581\n",
            "Epoch 41/50\n",
            "\u001b[1m155/155\u001b[0m \u001b[32m━━━━━━━━━━━━━━━━━━━━\u001b[0m\u001b[37m\u001b[0m \u001b[1m1s\u001b[0m 4ms/step - accuracy: 1.0000 - loss: 7.4472e-05 - val_accuracy: 0.7757 - val_loss: 0.4612\n",
            "Epoch 42/50\n",
            "\u001b[1m155/155\u001b[0m \u001b[32m━━━━━━━━━━━━━━━━━━━━\u001b[0m\u001b[37m\u001b[0m \u001b[1m1s\u001b[0m 4ms/step - accuracy: 1.0000 - loss: 7.5979e-05 - val_accuracy: 0.7743 - val_loss: 0.4596\n",
            "Epoch 43/50\n",
            "\u001b[1m155/155\u001b[0m \u001b[32m━━━━━━━━━━━━━━━━━━━━\u001b[0m\u001b[37m\u001b[0m \u001b[1m1s\u001b[0m 4ms/step - accuracy: 1.0000 - loss: 6.0163e-05 - val_accuracy: 0.7643 - val_loss: 0.4660\n",
            "Epoch 44/50\n",
            "\u001b[1m155/155\u001b[0m \u001b[32m━━━━━━━━━━━━━━━━━━━━\u001b[0m\u001b[37m\u001b[0m \u001b[1m1s\u001b[0m 7ms/step - accuracy: 1.0000 - loss: 5.5950e-05 - val_accuracy: 0.7629 - val_loss: 0.4690\n",
            "Epoch 45/50\n",
            "\u001b[1m155/155\u001b[0m \u001b[32m━━━━━━━━━━━━━━━━━━━━\u001b[0m\u001b[37m\u001b[0m \u001b[1m1s\u001b[0m 9ms/step - accuracy: 1.0000 - loss: 5.0068e-05 - val_accuracy: 0.7681 - val_loss: 0.4626\n",
            "Epoch 46/50\n",
            "\u001b[1m155/155\u001b[0m \u001b[32m━━━━━━━━━━━━━━━━━━━━\u001b[0m\u001b[37m\u001b[0m \u001b[1m2s\u001b[0m 5ms/step - accuracy: 1.0000 - loss: 4.5362e-05 - val_accuracy: 0.7601 - val_loss: 0.4747\n",
            "Epoch 47/50\n",
            "\u001b[1m155/155\u001b[0m \u001b[32m━━━━━━━━━━━━━━━━━━━━\u001b[0m\u001b[37m\u001b[0m \u001b[1m1s\u001b[0m 5ms/step - accuracy: 1.0000 - loss: 4.0067e-05 - val_accuracy: 0.7610 - val_loss: 0.4743\n",
            "Epoch 48/50\n",
            "\u001b[1m155/155\u001b[0m \u001b[32m━━━━━━━━━━━━━━━━━━━━\u001b[0m\u001b[37m\u001b[0m \u001b[1m1s\u001b[0m 4ms/step - accuracy: 1.0000 - loss: 4.0526e-05 - val_accuracy: 0.7624 - val_loss: 0.4698\n",
            "Epoch 49/50\n",
            "\u001b[1m155/155\u001b[0m \u001b[32m━━━━━━━━━━━━━━━━━━━━\u001b[0m\u001b[37m\u001b[0m \u001b[1m1s\u001b[0m 5ms/step - accuracy: 1.0000 - loss: 3.5338e-05 - val_accuracy: 0.7615 - val_loss: 0.4724\n",
            "Epoch 50/50\n",
            "\u001b[1m155/155\u001b[0m \u001b[32m━━━━━━━━━━━━━━━━━━━━\u001b[0m\u001b[37m\u001b[0m \u001b[1m1s\u001b[0m 4ms/step - accuracy: 1.0000 - loss: 3.0835e-05 - val_accuracy: 0.7577 - val_loss: 0.4811\n"
          ]
        },
        {
          "data": {
            "text/plain": [
              "<keras.src.callbacks.history.History at 0x7e0dae7f7bb0>"
            ]
          },
          "execution_count": 13,
          "metadata": {},
          "output_type": "execute_result"
        }
      ],
      "source": [
        "model.fit(X_train, y_train, epochs=50, batch_size=32, validation_data=(X_test, y_test))"
      ]
    },
    {
      "cell_type": "markdown",
      "metadata": {
        "id": "fQN_svepsfE7"
      },
      "source": [
        "Step 5: Evaluate the Model"
      ]
    },
    {
      "cell_type": "code",
      "execution_count": null,
      "metadata": {
        "colab": {
          "base_uri": "https://localhost:8080/"
        },
        "id": "Ovg8-td6dzVM",
        "outputId": "99d5face-1823-4715-f002-c8a6244e6fa3"
      },
      "outputs": [
        {
          "name": "stdout",
          "output_type": "stream",
          "text": [
            "\u001b[1m67/67\u001b[0m \u001b[32m━━━━━━━━━━━━━━━━━━━━\u001b[0m\u001b[37m\u001b[0m \u001b[1m0s\u001b[0m 2ms/step\n"
          ]
        }
      ],
      "source": [
        "# Predict on the test set\n",
        "y_pred = (model.predict(X_test) > 0.5).astype(\"int32\")"
      ]
    },
    {
      "cell_type": "code",
      "execution_count": null,
      "metadata": {
        "colab": {
          "base_uri": "https://localhost:8080/"
        },
        "id": "TiP5qQATdzRv",
        "outputId": "8b4a0f00-f242-4e1b-d1b4-5d473f30cfa4"
      },
      "outputs": [
        {
          "name": "stdout",
          "output_type": "stream",
          "text": [
            "\n",
            "Confusion Matrix:\n",
            "[[1256  283]\n",
            " [ 229  345]]\n"
          ]
        }
      ],
      "source": [
        "# Confusion Matrix\n",
        "print(\"\\nConfusion Matrix:\")\n",
        "print(confusion_matrix(y_test, y_pred))"
      ]
    },
    {
      "cell_type": "code",
      "execution_count": null,
      "metadata": {
        "colab": {
          "base_uri": "https://localhost:8080/"
        },
        "id": "TAhQXKaNdzPa",
        "outputId": "be8475fd-8bca-4ecd-b4ea-ddec0c77ce74"
      },
      "outputs": [
        {
          "name": "stdout",
          "output_type": "stream",
          "text": [
            "\n",
            "Classification Report:\n",
            "              precision    recall  f1-score   support\n",
            "\n",
            "       False       0.85      0.82      0.83      1539\n",
            "        True       0.55      0.60      0.57       574\n",
            "\n",
            "    accuracy                           0.76      2113\n",
            "   macro avg       0.70      0.71      0.70      2113\n",
            "weighted avg       0.77      0.76      0.76      2113\n",
            "\n"
          ]
        }
      ],
      "source": [
        "# Classification Report\n",
        "print(\"\\nClassification Report:\")\n",
        "print(classification_report(y_test, y_pred))"
      ]
    },
    {
      "cell_type": "markdown",
      "metadata": {
        "id": "F5NszPDVsi3_"
      },
      "source": [
        " Step 6: Insights"
      ]
    },
    {
      "cell_type": "code",
      "execution_count": null,
      "metadata": {
        "colab": {
          "base_uri": "https://localhost:8080/",
          "height": 472
        },
        "id": "PurbDeasdzNT",
        "outputId": "96e7510e-417f-4f85-d5e8-0d6c04f68ee2"
      },
      "outputs": [
        {
          "data": {
            "image/png": "[encoded data removed]",
            "text/plain": [
              "<Figure size 640x480 with 1 Axes>"
            ]
          },
          "metadata": {},
          "output_type": "display_data"
        }
      ],
      "source": [
        "# Example: Influence of MonthlyCharges\n",
        "import matplotlib.pyplot as plt\n",
        "\n",
        "plt.hist(df[df['Churn_Yes'] == 1]['MonthlyCharges'], bins=30, alpha=0.5, label='Churned')\n",
        "plt.hist(df[df['Churn_Yes'] == 0]['MonthlyCharges'], bins=30, alpha=0.5, label='Not Churned')\n",
        "plt.title('Monthly Charges Distribution for Churned vs Not Churned Customers')\n",
        "plt.xlabel('Monthly Charges')\n",
        "plt.ylabel('Number of Customers')\n",
        "plt.legend()\n",
        "plt.show()\n"
      ]
    },
    {
      "cell_type": "code",
      "execution_count": null,
      "metadata": {
        "colab": {
          "base_uri": "https://localhost:8080/"
        },
        "id": "A03ft8M6K_hy",
        "outputId": "cf4d0fc0-4671-47e4-e3e8-c4d94ffe6eb0"
      },
      "outputs": [
        {
          "name": "stdout",
          "output_type": "stream",
          "text": [
            "Churn Rate by Contract Type:\n",
            "Contract_One year\n",
            "False    0.305745\n",
            "True     0.112695\n",
            "Name: Churn_Yes, dtype: float64\n"
          ]
        }
      ],
      "source": [
        "# Calculate churn rate by contract type\n",
        "contract_churn = df.groupby('Contract_One year')['Churn_Yes'].mean()\n",
        "print(\"Churn Rate by Contract Type:\")\n",
        "print(contract_churn)"
      ]
    },
    {
      "cell_type": "code",
      "execution_count": null,
      "metadata": {
        "colab": {
          "base_uri": "https://localhost:8080/",
          "height": 472
        },
        "id": "2lGDQo_qK_S5",
        "outputId": "2be47ab7-e730-4f10-c560-0ea3acd8602f"
      },
      "outputs": [
        {
          "data": {
            "image/png": "[encoded data removed]",
            "text/plain": [
              "<Figure size 640x480 with 1 Axes>"
            ]
          },
          "metadata": {},
          "output_type": "display_data"
        }
      ],
      "source": [
        "import matplotlib.pyplot as plt\n",
        "\n",
        "# Bar plot for churn rate by contract type\n",
        "contract_labels = ['Month-to-Month', 'One Year', 'Two Year']\n",
        "contract_churn_rates = [df[df['Contract_One year'] == 0]['Churn_Yes'].mean(),\n",
        "                        df[df['Contract_One year'] == 1]['Churn_Yes'].mean(),\n",
        "                        df[df['Contract_Two year'] == 1]['Churn_Yes'].mean()]\n",
        "\n",
        "plt.bar(contract_labels, contract_churn_rates, color=['red', 'blue', 'green'])\n",
        "plt.title('Churn Rate by Contract Type')\n",
        "plt.xlabel('Contract Type')\n",
        "plt.ylabel('Churn Rate')\n",
        "plt.show()\n"
      ]
    },
    {
      "cell_type": "code",
      "execution_count": null,
      "metadata": {
        "colab": {
          "base_uri": "https://localhost:8080/"
        },
        "id": "FjL8jAKDK_PY",
        "outputId": "3cc9b433-b719-4dbd-a462-23d777c345ab"
      },
      "outputs": [
        {
          "name": "stdout",
          "output_type": "stream",
          "text": [
            "Churn Rate by Tenure Group:\n",
            "TenureGroup\n",
            "(0, 12]     0.125153\n",
            "(12, 24]         NaN\n",
            "(24, 36]         NaN\n",
            "(36, 48]         NaN\n",
            "(48, 60]         NaN\n",
            "(60, 72]         NaN\n",
            "Name: Churn_Yes, dtype: float64\n"
          ]
        },
        {
          "name": "stderr",
          "output_type": "stream",
          "text": [
            "<ipython-input-21-e6209c99f556>:5: FutureWarning: The default of observed=False is deprecated and will be changed to True in a future version of pandas. Pass observed=False to retain current behavior or observed=True to adopt the future default and silence this warning.\n",
            "  tenure_churn = df.groupby('TenureGroup')['Churn_Yes'].mean()\n"
          ]
        }
      ],
      "source": [
        "# Group tenure into bins (e.g., 0-12 months, 12-24 months, etc.)\n",
        "df['TenureGroup'] = pd.cut(df['tenure'], bins=[0, 12, 24, 36, 48, 60, 72])\n",
        "\n",
        "# Calculate churn rate by tenure group\n",
        "tenure_churn = df.groupby('TenureGroup')['Churn_Yes'].mean()\n",
        "print(\"Churn Rate by Tenure Group:\")\n",
        "print(tenure_churn)\n"
      ]
    },
    {
      "cell_type": "code",
      "execution_count": null,
      "metadata": {
        "colab": {
          "base_uri": "https://localhost:8080/",
          "height": 513
        },
        "id": "6jkI7OEGK_NS",
        "outputId": "6e192046-cb3e-4e3c-833c-e0c377a2230d"
      },
      "outputs": [
        {
          "data": {
            "image/png": "[encoded data removed]",
            "text/plain": [
              "<Figure size 640x480 with 1 Axes>"
            ]
          },
          "metadata": {},
          "output_type": "display_data"
        }
      ],
      "source": [
        "# Bar plot for churn rate by tenure group\n",
        "tenure_churn.plot(kind='bar', color='purple')\n",
        "plt.title('Churn Rate by Tenure Group')\n",
        "plt.xlabel('Tenure (Months)')\n",
        "plt.ylabel('Churn Rate')\n",
        "plt.show()"
      ]
    }
  ],
  "metadata": {
    "colab": {
      "provenance": []
    },
    "kernelspec": {
      "display_name": "Python 3",
      "name": "python3"
    },
    "language_info": {
      "name": "python"
    }
  },
  "nbformat": 4,
  "nbformat_minor": 0
}
